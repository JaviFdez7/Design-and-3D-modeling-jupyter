{
 "cells": [
  {
   "cell_type": "markdown",
   "metadata": {},
   "source": [
    "<h3>Problema 2</h3>\n",
    "\n",
    "Construir un modelo 3D en SAGE para la mariposa\n",
    "\n"
   ]
  },
  {
   "cell_type": "code",
   "execution_count": 334,
   "metadata": {},
   "outputs": [],
   "source": [
    "#funciones de practicas\n",
    "reset()\n",
    "load('funciones.sage')"
   ]
  },
  {
   "cell_type": "code",
   "execution_count": 335,
   "metadata": {
    "scrolled": true
   },
   "outputs": [],
   "source": [
    "#EJERCICIO MARIPOSA\n",
    "u,v=var('u,v')\n",
    "#CUERPO\n",
    "#2 curvas a trozos, 1 para el tronco, y otro para formar la cabeza\n",
    "PC1=matrix(QQ,[[0,0,0,1],[0.55,0,0.15,1],[0.75,0,2.5,1],[0.2,0,3,1]]).transpose()\n",
    "PC2=matrix(QQ,[[0.2,0,3,1],[0.75,0,3.25,1],[0.75,0,3.85,1],[0,0,4,1]]).transpose()\n",
    "\n",
    "C1=lambda u: punto_curva_bezier(PC1,u)\n",
    "C2=lambda u: punto_curva_bezier(PC2,u)\n",
    "\n",
    "S1=superficie_revolucion_eje_z(C1)\n",
    "S2=superficie_revolucion_eje_z(C2)\n",
    "\n",
    "#ALA DEL EJE X POSITIVO\n",
    "#4 curvas a trozos, superfice reglada entre la curva exterior superior con la curva superior interior.\n",
    "#Superfice reglada entre la curva exterior inferior con la curva inferior interior\n",
    "PG1=matrix(QQ,[[0.23,0,0.2,1],[0.38,0,0.5,1],[0.5,0,1.15,1],[0.5,0,1.42,1]]).transpose()\n",
    "PG2=matrix(QQ,[[0.5,0,1.42,1],[0.55,0,2,1],[0.5,0,2.5,1],[0.3,0,2.85,1]]).transpose()\n",
    "PC3=matrix(QQ,[[0.23,0,0.2,1],[2.6,0,-0.2,1],[3.5,0,1,1],[2.1,0,1.4,1]]).transpose()\n",
    "PC4=matrix(QQ,[[2.1,0,1.4,1],[6,0,4.3,1],[2,0,5,1],[0.3,0,2.85,1]]).transpose()\n",
    "\n",
    "curva1_exterior_ala1= lambda u: punto_curva_bezier(PC3,u)\n",
    "curva2_exterior_ala1= lambda u: punto_curva_bezier(PC4,u)\n",
    "curva1_interior_ala1 = lambda u: punto_curva_bezier(PG1,u)\n",
    "curva2_interior_ala1 = lambda u: punto_curva_bezier(PG2,u)\n",
    "\n",
    "S3=superficie_reglada(curva1_exterior_ala1,curva1_interior_ala1)\n",
    "S4=superficie_reglada(curva2_exterior_ala1,curva2_interior_ala1)\n",
    "\n",
    "#ALA DEL EJE X NEGATIVO\n",
    "#Calculamos las 4 curvas necesarias para este ala haciendo una simetría de las \n",
    "#4 curvas del lado positivo con respecto del plano x=0\n",
    "r=matrix(QQ,[[1,0,0,0]]).transpose()\n",
    "\n",
    "PG3= simetria(r)*PG1\n",
    "PG4= simetria(r)*PG2\n",
    "PC5= simetria(r)*PC3\n",
    "PC6= simetria(r)*PC4\n",
    "\n",
    "curva1_exterior_ala2= lambda u: punto_curva_bezier(PC5,u)\n",
    "curva2_exterior_ala2= lambda u: punto_curva_bezier(PC6,u)\n",
    "curva1_interior_ala2 = lambda u: punto_curva_bezier(PG3,u)\n",
    "curva2_interior_ala2 = lambda u: punto_curva_bezier(PG4,u)\n",
    "\n",
    "S5=superficie_reglada(curva1_exterior_ala2,curva1_interior_ala2)\n",
    "S6=superficie_reglada(curva2_exterior_ala2,curva2_interior_ala2)\n",
    "\n",
    "\n",
    "#ANTENA LARGA\n",
    "#Usamos 2 superficies de bezier para el tronco de la antena y otras 2 para la curva\n",
    "PB1=matrix([[0.2, 0.3 , 0.3 , 0.2, 0.2, 0.3 , 0.3 , 0.2, 0.2, 0.3 , 0.3 , 0.2 ,0.2, 0.3 , 0.3 , 0.2],\n",
    "[-0.075 ,-0.05 , 0.05 , 0.075 , -0.075 ,-0.05 , 0.05 , 0.075, -0.075 ,-0.05 , 0.05 , 0.075 , -0.075 ,-0.05 , 0.05 , 0.075],\n",
    "[3.9 , 3.9 , 3.9 , 3.9 , 4.2 , 4.2 , 4.2 , 4.2 , 4.4 ,4.4 , 4.4 , 4.4 , 4.6 , 4.6 , 4.6 , 4.6],\n",
    "[1  ,1  ,1  ,1  ,1  ,1 ,1 ,1  ,1  ,1  ,1  ,1 ,1  ,1 ,1  ,1  ]])\n",
    "\n",
    "SB1=superficie_bezier(PB1)\n",
    "\n",
    "PB2=matrix([[0.2, 0.1 , 0.1 , 0.2, 0.2, 0.1 , 0.1 , 0.2, 0.2, 0.1 , 0.1 , 0.2 ,0.2, 0.1 , 0.1 , 0.2],\n",
    "[0.075 ,0.05 , -0.05 , -0.075 , 0.075 ,0.05 , -0.05 , -0.075, 0.075 ,0.05 , -0.05 , -0.075 , 0.075 ,0.05 , -0.05 , -0.075],\n",
    "[3.9 , 3.9 , 3.9 , 3.9 , 4.2 , 4.2 , 4.2 , 4.2 , 4.4 ,4.4 , 4.4 , 4.4 , 4.6 , 4.6 , 4.6 , 4.6],\n",
    "[1  ,1  ,1  ,1  ,1  ,1 ,1 ,1  ,1  ,1  ,1  ,1 ,1  ,1 ,1  ,1  ]])\n",
    "\n",
    "SB2=superficie_bezier(PB2)\n",
    "\n",
    "PB5=matrix([\n",
    "[0.2, 0.1 , 0.1 , 0.2, 0.3, 0.3 ,0.3 , 0.3 , 0.6 , 0.8, 0.8 , 0.6 , 0.3 , 0.3 , 0.3 , 0.3],\n",
    "[0.075 ,0.05 , -0.05 , -0.075,0.075 ,0.05 , -0.05 , -0.075,0.075 ,0.05 , -0.05 , -0.075,0.075 ,0.05 , -0.05 , -0.075],\n",
    "[4.6 , 4.6 , 4.6 , 4.6 , 4.9 , 5.2 , 5.2 , 4.9 , 4.6 , 4.5 , 4.5 , 4.6 , 4.5 , 4.4 , 4.4, 4.5 ],\n",
    "[1  ,1  ,1  ,1  ,1  ,1 ,1 ,1  ,1  ,1  ,1  ,1 ,1  ,1 ,1  ,1  ]])\n",
    "\n",
    "SB5=superficie_bezier(PB5)\n",
    "\n",
    "PB6=matrix([\n",
    "[0.2, 0.3 , 0.3 , 0.2, 0.3, 0.3 ,0.3 , 0.3 , 0.6 , 0.4, 0.4 , 0.6 , 0.3 , 0.3 , 0.3 , 0.3],\n",
    "[-0.075 ,-0.05 , 0.05 , 0.075,-0.075 ,-0.05 , 0.05 , 0.075,-0.075 ,-0.05 , 0.05 , 0.075,-0.075 ,-0.05 , 0.05 , 0.075],\n",
    "[4.6 , 4.6 , 4.6 , 4.6 , 4.9 , 4.6 , 4.6 , 4.9 , 4.6 , 4.5 , 4.5 , 4.6 , 4.5 , 4.6 , 4.6, 4.5 ],\n",
    "[1  ,1  ,1  ,1  ,1  ,1 ,1 ,1  ,1  ,1  ,1  ,1 ,1  ,1 ,1  ,1  ]])\n",
    "\n",
    "SB6=superficie_bezier(PB6)\n",
    "\n",
    "\n",
    "\n",
    "#ANTENA CORTA -> usamos de nuevo la simetria\n",
    "Auxiliar= matrix([[0,  0, 0 , 0, 0, 0 , 0 , 0, 0, 0 , 0, 0 ,0, 0 , 0 , 0],\n",
    "[0,0,0,0,0,0,0,0,0,0,0,0,0,0,0,0],\n",
    "[0.2  , 0.2 ,0.2  ,0.2  ,0.2  ,0.2 ,0.2 ,0.2  ,0.2  ,0.2  ,0.2  ,0.2 ,0.2  ,0.2 ,0.2  ,0.2  ],\n",
    "[0,0,0,0,0,0,0,0,0,0,0,0,0,0,0,0] ])\n",
    "\n",
    "Auxiliar2= matrix([[0,  0, 0 , 0, 0, 0 , 0 , 0, 0, 0 , 0, 0 ,0, 0 , 0 , 0],\n",
    "[0,0,0,0,0,0,0,0,0,0,0,0,0,0,0,0],\n",
    "[0  , 0 ,0  ,0  ,0.2  ,0.2 ,0.2 ,0.2  ,0.2  ,0.2  ,0.2  ,0.2 ,0.2  ,0.2 ,0.2  ,0.2  ],\n",
    "[0,0,0,0,0,0,0,0,0,0,0,0,0,0,0,0] ])\n",
    "\n",
    "PB3=(simetria(r)*PB1)-Auxiliar2\n",
    "SB3=superficie_bezier(PB3)\n",
    "\n",
    "PB4=(simetria(r)*PB2)-Auxiliar2\n",
    "SB4=superficie_bezier(PB4)\n",
    "\n",
    "PB7=(simetria(r)*PB5)-Auxiliar\n",
    "SB7=superficie_bezier(PB7)\n",
    "\n",
    "PB8=(simetria(r)*PB6)-Auxiliar\n",
    "SB8=superficie_bezier(PB8)"
   ]
  },
  {
   "cell_type": "code",
   "execution_count": null,
   "metadata": {
    "scrolled": false
   },
   "outputs": [],
   "source": [
    "dibujar_superficie_parametrica(S1,0,1,0,2*pi,\"yellow\")+dibujar_superficie_parametrica(S2,0,1,0,2*pi,\"purple\")+dibujar_superficie_parametrica(S3,0,1,0,1,\"green\")+dibujar_superficie_parametrica(S4,0,1,0,1,\"green\")+dibujar_superficie_parametrica(S5,0,1,0,1,\"green\")+dibujar_superficie_parametrica(S6,0,1,0,1,\"green\")+dibujar_superficie_parametrica(SB1,0,1,0,1,\"black\")+dibujar_superficie_parametrica(SB2,0,1,0,1,\"black\")+dibujar_superficie_parametrica(SB3,0,1,0,1,\"black\")+dibujar_superficie_parametrica(SB4,0,1,0,1,\"black\")+dibujar_superficie_parametrica(SB5,0,1,0,1,\"black\")+dibujar_superficie_parametrica(SB6,0,1,0,1,\"black\")+dibujar_superficie_parametrica(SB7,0,1,0,1,\"black\")+dibujar_superficie_parametrica(SB8,0,1,0,1,\"black\")"
   ]
  },
  {
   "cell_type": "code",
   "execution_count": null,
   "metadata": {},
   "outputs": [],
   "source": []
  }
 ],
 "metadata": {
  "kernelspec": {
   "display_name": "SageMath 9.1",
   "language": "sage",
   "name": "sagemath"
  },
  "language_info": {
   "codemirror_mode": {
    "name": "ipython",
    "version": 3
   },
   "file_extension": ".py",
   "mimetype": "text/x-python",
   "name": "python",
   "nbconvert_exporter": "python",
   "pygments_lexer": "ipython3",
   "version": "3.7.3"
  }
 },
 "nbformat": 4,
 "nbformat_minor": 2
}
